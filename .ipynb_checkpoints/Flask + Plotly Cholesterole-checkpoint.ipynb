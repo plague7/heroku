{
 "cells": [
  {
   "cell_type": "code",
   "execution_count": null,
   "id": "5e05dcd8",
   "metadata": {},
   "outputs": [],
   "source": [
    "from flask import Flask, render_template\n",
    "import pandas as pd\n",
    "import json\n",
    "import plotly\n",
    "import plotly.express as px\n",
    "\n",
    "app = Flask(__name__)\n",
    "\n",
    "data=pd.read_csv(\"C:/Users/Simplon/Desktop/Travaux python/OpenFoodFacts - Cholesterole/dataNET_copie/data_cleaned.csv\")\n",
    "\n",
    "@app.route('/')\n",
    "\n",
    "#def notdash():\n",
    "#\n",
    "#    fig=px.histogram(data, x=\"pnns_groups_2\", \n",
    "#                 color=\"saturated_fat_in_g\").update_xaxes(categoryorder=\"category ascending\")\n",
    "#    \n",
    "#    graphJSON = json.dumps(fig, cls=plotly.utils.PlotlyJSONEncoder)\n",
    "#\n",
    "#    return render_template('notdash.html', graphJSON=graphJSON)\n",
    "\n",
    "if __name__ == '__main__':\n",
    "    app.run()"
   ]
  },
  {
   "cell_type": "code",
   "execution_count": null,
   "id": "a76a90d8",
   "metadata": {},
   "outputs": [],
   "source": []
  }
 ],
 "metadata": {
  "kernelspec": {
   "display_name": "Python 3",
   "language": "python",
   "name": "python3"
  },
  "language_info": {
   "codemirror_mode": {
    "name": "ipython",
    "version": 3
   },
   "file_extension": ".py",
   "mimetype": "text/x-python",
   "name": "python",
   "nbconvert_exporter": "python",
   "pygments_lexer": "ipython3",
   "version": "3.8.8"
  }
 },
 "nbformat": 4,
 "nbformat_minor": 5
}
